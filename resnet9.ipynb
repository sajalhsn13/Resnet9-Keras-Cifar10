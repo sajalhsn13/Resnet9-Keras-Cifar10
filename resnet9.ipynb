{
  "nbformat": 4,
  "nbformat_minor": 0,
  "metadata": {
    "colab": {
      "name": "resnet9.ipynb",
      "provenance": [],
      "collapsed_sections": []
    },
    "kernelspec": {
      "name": "python3",
      "display_name": "Python 3"
    },
    "language_info": {
      "name": "python"
    },
    "accelerator": "GPU",
    "gpuClass": "standard"
  },
  "cells": [
    {
      "cell_type": "code",
      "source": [
        "# !wget -O mini.sh https://repo.anaconda.com/miniconda/Miniconda3-py38_4.8.2-Linux-x86_64.sh\n",
        "# !chmod +x mini.sh\n",
        "# !bash ./mini.sh -b -f -p /usr/local\n",
        "# !conda install -q -y jupyter\n",
        "# !conda install -q -y google-colab -c conda-forge\n",
        "# !python -m ipykernel install --name \"py38\" --user"
      ],
      "metadata": {
        "id": "nIvMOwIjUd7X"
      },
      "execution_count": 1,
      "outputs": []
    },
    {
      "cell_type": "code",
      "source": [
        "# !python --version"
      ],
      "metadata": {
        "id": "neoO1bRsU8vc"
      },
      "execution_count": 2,
      "outputs": []
    },
    {
      "cell_type": "code",
      "execution_count": 3,
      "metadata": {
        "id": "oNZVHtbGvRC8"
      },
      "outputs": [],
      "source": [
        "import warnings\n",
        "import tensorflow as tf\n",
        "import tensorflow.keras as kr\n",
        "import numpy as np\n",
        "import matplotlib.pyplot as plt\n",
        "import seaborn as sns\n",
        "\n",
        "from tensorflow.keras.utils import to_categorical\n",
        "\n",
        "BATCH = 128\n",
        "SEED = 57\n",
        "EPOCHS = 50\n",
        "NUM_CLASSES = 10\n",
        "PATIENCE = 10\n",
        "\n",
        "warnings.filterwarnings('ignore')\n",
        "tf.random.set_seed(SEED)"
      ]
    },
    {
      "cell_type": "code",
      "source": [
        "tf.test.gpu_device_name()"
      ],
      "metadata": {
        "colab": {
          "base_uri": "https://localhost:8080/",
          "height": 35
        },
        "id": "b64RArTZW__6",
        "outputId": "33d2e161-cde3-42ce-eeec-83bb6016ae10"
      },
      "execution_count": 4,
      "outputs": [
        {
          "output_type": "execute_result",
          "data": {
            "text/plain": [
              "'/device:GPU:0'"
            ],
            "application/vnd.google.colaboratory.intrinsic+json": {
              "type": "string"
            }
          },
          "metadata": {},
          "execution_count": 4
        }
      ]
    },
    {
      "cell_type": "code",
      "source": [
        "class ConvolutionBlock(kr.layers.Layer):\n",
        "  def __init__(self, filters, pool=False):\n",
        "    super().__init__()\n",
        "    self.conv = kr.layers.Conv2D(filters=filters, kernel_size=3, padding='same')\n",
        "    self.bn = kr.layers.BatchNormalization()\n",
        "    self.relu = kr.layers.ReLU()\n",
        "    self.pool = kr.layers.MaxPool2D() if pool else None\n",
        "\n",
        "  def call(self, x):\n",
        "    x = self.conv(x)\n",
        "    x = self.bn(x)\n",
        "    x = self.relu(x)\n",
        "    if self.pool: x = self.pool(x)\n",
        "    return x"
      ],
      "metadata": {
        "id": "lgq_7ZB9wh__"
      },
      "execution_count": 5,
      "outputs": []
    },
    {
      "cell_type": "code",
      "source": [
        "class ResidualBlock(kr.layers.Layer):\n",
        "  def __init__(self, filters):\n",
        "    super().__init__()\n",
        "    self.conv_b1 = ConvolutionBlock(filters)\n",
        "    self.conv_b2 = ConvolutionBlock(filters)\n",
        "    self.add = kr.layers.Add()\n",
        "  \n",
        "  def call(self, x):\n",
        "    return self.add([self.conv_b2(self.conv_b1(x)), x])"
      ],
      "metadata": {
        "id": "anuLwKZMPPf4"
      },
      "execution_count": 6,
      "outputs": []
    },
    {
      "cell_type": "code",
      "source": [
        "class Resnet9(kr.models.Model):\n",
        "  def __init__(self, num_classes):\n",
        "    super().__init__()\n",
        "    self.augmentations = [\n",
        "        kr.layers.RandomFlip('horizontal'),\n",
        "        kr.layers.RandomRotation(0.1, fill_mode='reflect')\n",
        "    ]\n",
        "    self.conv_b1 = ConvolutionBlock(64)\n",
        "    self.conv_b2 = ConvolutionBlock(128, pool=True)\n",
        "    self.resd_b1 = ResidualBlock(128)\n",
        "    self.conv_b3 = ConvolutionBlock(256, pool=True)\n",
        "    self.conv_b4 = ConvolutionBlock(512, pool=True)\n",
        "    self.resd_b2 = ResidualBlock(512)\n",
        "    self.pool = kr.layers.MaxPool2D()\n",
        "    self.flatten = kr.layers.Flatten()\n",
        "    self.dropout = kr.layers.Dropout(0.2)\n",
        "    self.dense = kr.layers.Dense(num_classes)\n",
        "    self.softmax = kr.layers.Softmax()\n",
        "\n",
        "  def call(self, x, training=False):\n",
        "    for augmentation in self.augmentations: x = augmentation(x)\n",
        "    x = self.conv_b1(x)\n",
        "    x = self.conv_b2(x)\n",
        "    x = self.resd_b1(x)\n",
        "    x = self.conv_b3(x)\n",
        "    x = self.conv_b4(x)\n",
        "    x = self.resd_b2(x)\n",
        "    x = self.pool(x)\n",
        "    x = self.flatten(x)\n",
        "    x = self.dropout(x)\n",
        "    x = self.dense(x)\n",
        "    x = self.softmax(x)\n",
        "    return x"
      ],
      "metadata": {
        "id": "3Avu-WN2WTT4"
      },
      "execution_count": 7,
      "outputs": []
    },
    {
      "cell_type": "code",
      "source": [
        "model = Resnet9(NUM_CLASSES)"
      ],
      "metadata": {
        "id": "6kkKRYUpYEB6"
      },
      "execution_count": 8,
      "outputs": []
    },
    {
      "cell_type": "code",
      "source": [
        "model.compile(optimizer='adam', loss='categorical_crossentropy', metrics='accuracy')"
      ],
      "metadata": {
        "id": "VCYxo7bWYD_R"
      },
      "execution_count": 9,
      "outputs": []
    },
    {
      "cell_type": "code",
      "source": [
        "(xtr, ytr), (xvl, yvl) = kr.datasets.cifar10.load_data()"
      ],
      "metadata": {
        "id": "jvL_l16sz2hH"
      },
      "execution_count": 10,
      "outputs": []
    },
    {
      "cell_type": "code",
      "source": [
        "xtr.shape, xvl.shape, ytr.shape, yvl.shape"
      ],
      "metadata": {
        "colab": {
          "base_uri": "https://localhost:8080/"
        },
        "id": "ckOtvD3cPzCh",
        "outputId": "db386ea5-b31e-4946-c8c3-82d58b89c573"
      },
      "execution_count": 11,
      "outputs": [
        {
          "output_type": "execute_result",
          "data": {
            "text/plain": [
              "((50000, 32, 32, 3), (10000, 32, 32, 3), (50000, 1), (10000, 1))"
            ]
          },
          "metadata": {},
          "execution_count": 11
        }
      ]
    },
    {
      "cell_type": "code",
      "source": [
        "xtr = xtr.astype('float32') / 255\n",
        "xvl = xvl.astype('float32') / 255"
      ],
      "metadata": {
        "id": "niCpyDvMNXCi"
      },
      "execution_count": 12,
      "outputs": []
    },
    {
      "cell_type": "code",
      "source": [
        "ytr = to_categorical(ytr, num_classes=10)\n",
        "yvl = to_categorical(yvl, num_classes=10)"
      ],
      "metadata": {
        "id": "YAMp8hmQPiTx"
      },
      "execution_count": 13,
      "outputs": []
    },
    {
      "cell_type": "code",
      "source": [
        "xtr.shape, xvl.shape, ytr.shape, yvl.shape"
      ],
      "metadata": {
        "colab": {
          "base_uri": "https://localhost:8080/"
        },
        "id": "7GObK2GyP573",
        "outputId": "b80ea71f-4230-49a8-8408-ba49aecda715"
      },
      "execution_count": 14,
      "outputs": [
        {
          "output_type": "execute_result",
          "data": {
            "text/plain": [
              "((50000, 32, 32, 3), (10000, 32, 32, 3), (50000, 10), (10000, 10))"
            ]
          },
          "metadata": {},
          "execution_count": 14
        }
      ]
    },
    {
      "cell_type": "code",
      "source": [
        "early_stopping = kr.callbacks.EarlyStopping(monitor='val_accuracy', patience=PATIENCE, restore_best_weights=True)"
      ],
      "metadata": {
        "id": "c2ixiehPafli"
      },
      "execution_count": 15,
      "outputs": []
    },
    {
      "cell_type": "code",
      "source": [
        "%%time\n",
        "tranings = model.fit(xtr, ytr, validation_data=(xvl, yvl), epochs=EPOCHS, shuffle=True, batch_size=BATCH, verbose=True, callbacks=[early_stopping])"
      ],
      "metadata": {
        "colab": {
          "base_uri": "https://localhost:8080/"
        },
        "id": "WnZlZVGSJitt",
        "outputId": "7c9eca35-0dcd-49a1-ed91-3fe4a71a2a14"
      },
      "execution_count": 16,
      "outputs": [
        {
          "output_type": "stream",
          "name": "stdout",
          "text": [
            "Epoch 1/50\n",
            "391/391 [==============================] - 32s 70ms/step - loss: 1.9609 - accuracy: 0.4187 - val_loss: 3.1003 - val_accuracy: 0.1452\n",
            "Epoch 2/50\n",
            "391/391 [==============================] - 27s 70ms/step - loss: 1.3108 - accuracy: 0.5825 - val_loss: 1.1835 - val_accuracy: 0.6140\n",
            "Epoch 3/50\n",
            "391/391 [==============================] - 26s 65ms/step - loss: 1.0821 - accuracy: 0.6501 - val_loss: 1.1296 - val_accuracy: 0.6592\n",
            "Epoch 4/50\n",
            "391/391 [==============================] - 27s 68ms/step - loss: 0.9255 - accuracy: 0.6959 - val_loss: 1.0655 - val_accuracy: 0.6632\n",
            "Epoch 5/50\n",
            "391/391 [==============================] - 26s 66ms/step - loss: 0.8328 - accuracy: 0.7219 - val_loss: 0.7764 - val_accuracy: 0.7395\n",
            "Epoch 6/50\n",
            "391/391 [==============================] - 26s 66ms/step - loss: 0.7426 - accuracy: 0.7500 - val_loss: 0.6711 - val_accuracy: 0.7747\n",
            "Epoch 7/50\n",
            "391/391 [==============================] - 26s 66ms/step - loss: 0.6716 - accuracy: 0.7745 - val_loss: 0.7860 - val_accuracy: 0.7393\n",
            "Epoch 8/50\n",
            "391/391 [==============================] - 26s 66ms/step - loss: 0.6443 - accuracy: 0.7824 - val_loss: 0.8907 - val_accuracy: 0.7380\n",
            "Epoch 9/50\n",
            "391/391 [==============================] - 26s 66ms/step - loss: 0.5986 - accuracy: 0.7994 - val_loss: 0.8179 - val_accuracy: 0.7493\n",
            "Epoch 10/50\n",
            "391/391 [==============================] - 26s 66ms/step - loss: 0.5541 - accuracy: 0.8141 - val_loss: 0.6565 - val_accuracy: 0.7892\n",
            "Epoch 11/50\n",
            "391/391 [==============================] - 26s 66ms/step - loss: 0.5211 - accuracy: 0.8224 - val_loss: 1.2830 - val_accuracy: 0.6902\n",
            "Epoch 12/50\n",
            "391/391 [==============================] - 26s 65ms/step - loss: 0.4922 - accuracy: 0.8339 - val_loss: 0.8725 - val_accuracy: 0.7327\n",
            "Epoch 13/50\n",
            "391/391 [==============================] - 26s 66ms/step - loss: 0.4485 - accuracy: 0.8473 - val_loss: 0.6007 - val_accuracy: 0.8075\n",
            "Epoch 14/50\n",
            "391/391 [==============================] - 27s 68ms/step - loss: 0.4250 - accuracy: 0.8552 - val_loss: 0.4951 - val_accuracy: 0.8354\n",
            "Epoch 15/50\n",
            "391/391 [==============================] - 26s 66ms/step - loss: 0.4113 - accuracy: 0.8618 - val_loss: 0.5731 - val_accuracy: 0.8223\n",
            "Epoch 16/50\n",
            "391/391 [==============================] - 26s 65ms/step - loss: 0.3758 - accuracy: 0.8732 - val_loss: 0.7420 - val_accuracy: 0.7778\n",
            "Epoch 17/50\n",
            "391/391 [==============================] - 26s 65ms/step - loss: 0.3538 - accuracy: 0.8790 - val_loss: 0.5664 - val_accuracy: 0.8242\n",
            "Epoch 18/50\n",
            "391/391 [==============================] - 26s 65ms/step - loss: 0.3256 - accuracy: 0.8885 - val_loss: 0.6395 - val_accuracy: 0.7942\n",
            "Epoch 19/50\n",
            "391/391 [==============================] - 26s 66ms/step - loss: 0.3125 - accuracy: 0.8937 - val_loss: 0.6225 - val_accuracy: 0.8141\n",
            "Epoch 20/50\n",
            "391/391 [==============================] - 26s 66ms/step - loss: 0.2896 - accuracy: 0.9005 - val_loss: 0.4954 - val_accuracy: 0.8408\n",
            "Epoch 21/50\n",
            "391/391 [==============================] - 26s 66ms/step - loss: 0.2725 - accuracy: 0.9046 - val_loss: 0.5648 - val_accuracy: 0.8351\n",
            "Epoch 22/50\n",
            "391/391 [==============================] - 26s 66ms/step - loss: 0.2582 - accuracy: 0.9103 - val_loss: 0.4626 - val_accuracy: 0.8563\n",
            "Epoch 23/50\n",
            "391/391 [==============================] - 27s 68ms/step - loss: 0.2366 - accuracy: 0.9173 - val_loss: 0.4757 - val_accuracy: 0.8528\n",
            "Epoch 24/50\n",
            "391/391 [==============================] - 26s 65ms/step - loss: 0.2327 - accuracy: 0.9192 - val_loss: 0.6599 - val_accuracy: 0.8218\n",
            "Epoch 25/50\n",
            "391/391 [==============================] - 27s 68ms/step - loss: 0.2125 - accuracy: 0.9261 - val_loss: 0.5185 - val_accuracy: 0.8436\n",
            "Epoch 26/50\n",
            "391/391 [==============================] - 26s 66ms/step - loss: 0.2009 - accuracy: 0.9298 - val_loss: 0.4904 - val_accuracy: 0.8542\n",
            "Epoch 27/50\n",
            "391/391 [==============================] - 26s 65ms/step - loss: 0.1972 - accuracy: 0.9315 - val_loss: 0.4589 - val_accuracy: 0.8671\n",
            "Epoch 28/50\n",
            "391/391 [==============================] - 26s 65ms/step - loss: 0.1809 - accuracy: 0.9380 - val_loss: 0.7218 - val_accuracy: 0.8150\n",
            "Epoch 29/50\n",
            "391/391 [==============================] - 26s 65ms/step - loss: 0.1702 - accuracy: 0.9413 - val_loss: 0.7225 - val_accuracy: 0.8303\n",
            "Epoch 30/50\n",
            "391/391 [==============================] - 26s 65ms/step - loss: 0.1685 - accuracy: 0.9425 - val_loss: 0.5093 - val_accuracy: 0.8530\n",
            "Epoch 31/50\n",
            "391/391 [==============================] - 25s 65ms/step - loss: 0.1532 - accuracy: 0.9468 - val_loss: 0.5263 - val_accuracy: 0.8619\n",
            "Epoch 32/50\n",
            "391/391 [==============================] - 25s 65ms/step - loss: 0.1544 - accuracy: 0.9464 - val_loss: 0.5537 - val_accuracy: 0.8526\n",
            "Epoch 33/50\n",
            "391/391 [==============================] - 26s 65ms/step - loss: 0.1398 - accuracy: 0.9533 - val_loss: 0.5245 - val_accuracy: 0.8620\n",
            "Epoch 34/50\n",
            "391/391 [==============================] - 26s 66ms/step - loss: 0.1413 - accuracy: 0.9511 - val_loss: 0.4719 - val_accuracy: 0.8645\n",
            "Epoch 35/50\n",
            "391/391 [==============================] - 26s 66ms/step - loss: 0.1278 - accuracy: 0.9551 - val_loss: 0.4874 - val_accuracy: 0.8700\n",
            "Epoch 36/50\n",
            "391/391 [==============================] - 27s 68ms/step - loss: 0.1268 - accuracy: 0.9566 - val_loss: 0.5514 - val_accuracy: 0.8639\n",
            "Epoch 37/50\n",
            "391/391 [==============================] - 26s 65ms/step - loss: 0.1201 - accuracy: 0.9583 - val_loss: 0.5551 - val_accuracy: 0.8576\n",
            "Epoch 38/50\n",
            "391/391 [==============================] - 26s 66ms/step - loss: 0.1222 - accuracy: 0.9579 - val_loss: 0.5110 - val_accuracy: 0.8633\n",
            "Epoch 39/50\n",
            "391/391 [==============================] - 26s 66ms/step - loss: 0.1136 - accuracy: 0.9614 - val_loss: 0.4926 - val_accuracy: 0.8756\n",
            "Epoch 40/50\n",
            "391/391 [==============================] - 26s 65ms/step - loss: 0.1112 - accuracy: 0.9628 - val_loss: 0.5620 - val_accuracy: 0.8589\n",
            "Epoch 41/50\n",
            "391/391 [==============================] - 26s 65ms/step - loss: 0.1091 - accuracy: 0.9625 - val_loss: 0.6508 - val_accuracy: 0.8461\n",
            "Epoch 42/50\n",
            "391/391 [==============================] - 25s 65ms/step - loss: 0.0976 - accuracy: 0.9664 - val_loss: 0.6294 - val_accuracy: 0.8537\n",
            "Epoch 43/50\n",
            "391/391 [==============================] - 26s 65ms/step - loss: 0.1010 - accuracy: 0.9662 - val_loss: 0.5807 - val_accuracy: 0.8599\n",
            "Epoch 44/50\n",
            "391/391 [==============================] - 26s 66ms/step - loss: 0.0933 - accuracy: 0.9674 - val_loss: 0.7154 - val_accuracy: 0.8436\n",
            "Epoch 45/50\n",
            "391/391 [==============================] - 26s 66ms/step - loss: 0.0916 - accuracy: 0.9685 - val_loss: 0.5847 - val_accuracy: 0.8718\n",
            "Epoch 46/50\n",
            "391/391 [==============================] - 26s 66ms/step - loss: 0.0901 - accuracy: 0.9688 - val_loss: 0.5528 - val_accuracy: 0.8666\n",
            "Epoch 47/50\n",
            "391/391 [==============================] - 26s 66ms/step - loss: 0.0894 - accuracy: 0.9705 - val_loss: 0.5763 - val_accuracy: 0.8705\n",
            "Epoch 48/50\n",
            "391/391 [==============================] - 26s 66ms/step - loss: 0.0837 - accuracy: 0.9715 - val_loss: 0.6049 - val_accuracy: 0.8691\n",
            "Epoch 49/50\n",
            "391/391 [==============================] - 26s 66ms/step - loss: 0.0833 - accuracy: 0.9718 - val_loss: 0.7060 - val_accuracy: 0.8505\n",
            "CPU times: user 15min 19s, sys: 25.3 s, total: 15min 44s\n",
            "Wall time: 21min 9s\n"
          ]
        }
      ]
    },
    {
      "cell_type": "code",
      "source": [
        "model.evaluate(xvl, yvl, batch_size=BATCH)"
      ],
      "metadata": {
        "colab": {
          "base_uri": "https://localhost:8080/"
        },
        "id": "MUKB3EPRP-92",
        "outputId": "d1df9971-679b-4ed0-b722-34c9f7ae3761"
      },
      "execution_count": 17,
      "outputs": [
        {
          "output_type": "stream",
          "name": "stdout",
          "text": [
            "79/79 [==============================] - 2s 20ms/step - loss: 0.4926 - accuracy: 0.8756\n"
          ]
        },
        {
          "output_type": "execute_result",
          "data": {
            "text/plain": [
              "[0.49256792664527893, 0.8755999803543091]"
            ]
          },
          "metadata": {},
          "execution_count": 17
        }
      ]
    },
    {
      "cell_type": "code",
      "source": [
        "_, axes = plt.subplots(ncols=2, figsize=(20, 8))\n",
        "axes[0].plot(tranings.history['loss'])\n",
        "axes[0].plot(tranings.history['val_loss'])\n",
        "axes[0].set_title('Loss vs Epochs')\n",
        "axes[0].set_xlabel('epochs')\n",
        "axes[0].set_ylabel('loss')\n",
        "\n",
        "axes[1].plot(tranings.history['accuracy'])\n",
        "axes[1].plot(tranings.history['val_accuracy'])\n",
        "axes[1].set_title('Accuracy vs Epochs')\n",
        "axes[1].set_xlabel('epochs')\n",
        "axes[1].set_ylabel('accuracy')\n",
        "plt.show()"
      ],
      "metadata": {
        "colab": {
          "base_uri": "https://localhost:8080/",
          "height": 513
        },
        "id": "Jr7oNmqg7Kho",
        "outputId": "9f4fd42a-e824-4bfb-cf4b-6944c06f1013"
      },
      "execution_count": 18,
      "outputs": [
        {
          "output_type": "display_data",
          "data": {
            "text/plain": [
              "<Figure size 1440x576 with 2 Axes>"
            ],
            "image/png": "[encoded data removed]"
          },
          "metadata": {
            "needs_background": "light"
          }
        }
      ]
    },
    {
      "cell_type": "code",
      "source": [
        ""
      ],
      "metadata": {
        "id": "JzvWwlMY7efB"
      },
      "execution_count": 18,
      "outputs": []
    }
  ]
}